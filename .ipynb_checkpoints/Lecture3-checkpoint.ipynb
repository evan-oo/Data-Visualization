{
 "cells": [
  {
   "cell_type": "code",
   "execution_count": 1,
   "metadata": {},
   "outputs": [
    {
     "ename": "ModuleNotFoundError",
     "evalue": "No module named 'geopandas'",
     "output_type": "error",
     "traceback": [
      "\u001b[1;31m---------------------------------------------------------------------------\u001b[0m",
      "\u001b[1;31mModuleNotFoundError\u001b[0m                       Traceback (most recent call last)",
      "\u001b[1;32m<ipython-input-1-b5c0e0560dec>\u001b[0m in \u001b[0;36m<module>\u001b[1;34m\u001b[0m\n\u001b[0;32m      2\u001b[0m \u001b[1;32mimport\u001b[0m \u001b[0mnumpy\u001b[0m \u001b[1;32mas\u001b[0m \u001b[0mnp\u001b[0m\u001b[1;33m\u001b[0m\u001b[1;33m\u001b[0m\u001b[0m\n\u001b[0;32m      3\u001b[0m \u001b[1;32mimport\u001b[0m \u001b[0mpandas\u001b[0m \u001b[1;32mas\u001b[0m \u001b[0mpd\u001b[0m\u001b[1;33m\u001b[0m\u001b[1;33m\u001b[0m\u001b[0m\n\u001b[1;32m----> 4\u001b[1;33m \u001b[1;32mimport\u001b[0m \u001b[0mgeopandas\u001b[0m \u001b[1;32mas\u001b[0m \u001b[0mgpd\u001b[0m\u001b[1;33m\u001b[0m\u001b[1;33m\u001b[0m\u001b[0m\n\u001b[0m\u001b[0;32m      5\u001b[0m \u001b[1;32mimport\u001b[0m \u001b[0mmatplotlib\u001b[0m\u001b[1;33m.\u001b[0m\u001b[0mpyplot\u001b[0m \u001b[1;32mas\u001b[0m \u001b[0mplt\u001b[0m\u001b[1;33m\u001b[0m\u001b[1;33m\u001b[0m\u001b[0m\n\u001b[0;32m      6\u001b[0m \u001b[1;32mfrom\u001b[0m \u001b[0mplotnine\u001b[0m \u001b[1;32mimport\u001b[0m \u001b[1;33m*\u001b[0m\u001b[1;33m\u001b[0m\u001b[1;33m\u001b[0m\u001b[0m\n",
      "\u001b[1;31mModuleNotFoundError\u001b[0m: No module named 'geopandas'"
     ]
    }
   ],
   "source": [
    "# Always a bit risky, but I think the chance for name space convolution is small \n",
    "import numpy as np\n",
    "import pandas as pd\n",
    "import geopandas as gpd\n",
    "import matplotlib.pyplot as plt\n",
    "from plotnine import *\n",
    "\n",
    "# A nice color palette for categorical data \n",
    "cbPalette = [\"#E69F00\", \"#56B4E9\", \"#009E73\", \n",
    "             \"#0072B2\", \"#D55E00\", \n",
    "             \"#CC79A7\", \"#F0E442\", \"#999999\"]\n",
    "\n",
    "# Proportions when saving figures \n",
    "BASE_HEIGHT = 5\n",
    "BASE_WIDTH = 7.0\n",
    "\n",
    "# Directory for saving figures\n",
    "dir_save = \"./Figs/\"\n",
    "if not os.path.isdir(dir_save):\n",
    "    os.mkdir(dir_save)\n",
    "\n",
    "# Process the rainbow desaturaed colormap into a format compatible with plotnine \n",
    "col_list_df = pd.read_csv(\"Data/Rainbow_desaturated.csv\")\n",
    "rainbow_desaturated = []\n",
    "for i in range(col_list_df.shape[0]):\n",
    "    rainbow_desaturated.append([col_list_df[\"R\"][i], col_list_df[\"G\"][i], col_list_df[\"B\"][i]])"
   ]
  },
  {
   "cell_type": "markdown",
   "metadata": {},
   "source": [
    "## Colors \n",
    "\n",
    "Let us start with looking at different color-maps and their feature extraction power."
   ]
  },
  {
   "cell_type": "code",
   "execution_count": null,
   "metadata": {},
   "outputs": [],
   "source": [
    "data_test_colormap = pd.read_csv(\"Data/Ex_color_maps.csv\")\n",
    "\n",
    "p1 = (ggplot(data_test_colormap, aes('x', 'y', fill='z'))\n",
    "    + geom_raster()\n",
    "    + scale_fill_cmap(\"rainbow\")\n",
    "    + scale_x_continuous(expand=(0, 0)) \n",
    "    + scale_y_continuous(expand=(0, 0))\n",
    "    + labs(title = \"Rainbow\")\n",
    "    + theme_minimal())\n",
    "\n",
    "p2 = (ggplot(data_test_colormap, aes('x', 'y', fill='z'))\n",
    "    + geom_raster()\n",
    "    + scale_fill_cmap(\"viridis\")\n",
    "    + scale_x_continuous(expand=(0, 0)) \n",
    "    + scale_y_continuous(expand=(0, 0))\n",
    "    + labs(title = \"Viridis\")\n",
    "    + theme_minimal())\n",
    "\n",
    "p3 = (ggplot(data_test_colormap, aes('x', 'y', fill='z'))\n",
    "    + geom_raster()\n",
    "    + scale_fill_gradientn(colors=rainbow_desaturated)\n",
    "    + scale_x_continuous(expand=(0, 0)) \n",
    "    + scale_y_continuous(expand=(0, 0))\n",
    "    + labs(title = \"Rainbow desaturated\")\n",
    "    + theme_minimal())\n",
    "\n",
    "\n",
    "p4 = (ggplot(data_test_colormap, aes('x', 'y', fill='z'))\n",
    "    + geom_raster()\n",
    "    + scale_fill_cmap(\"Blues\")\n",
    "    + scale_x_continuous(expand=(0, 0)) \n",
    "    + scale_y_continuous(expand=(0, 0))\n",
    "    + labs(title = \"Blues\")\n",
    "    + theme_minimal())\n",
    "\n",
    "p5 = (ggplot(data_test_colormap, aes('x', 'y', fill='z'))\n",
    "    + geom_raster()\n",
    "    + scale_fill_cmap(\"jet\")\n",
    "    + scale_x_continuous(expand=(0, 0)) \n",
    "    + scale_y_continuous(expand=(0, 0))\n",
    "    + labs(title = \"Jet\")\n",
    "    + theme_minimal())\n",
    "\n",
    "\n",
    "p1.save(\"Figs/Circles_rainbow.png\", dpi=300, width=BASE_WIDTH*1.1, height=BASE_WIDTH)\n",
    "p2.save(\"Figs/Circles_viridis.png\", dpi=300, width=BASE_WIDTH*1.1, height=BASE_WIDTH)\n",
    "p3.save(\"Figs/Circles_desaturated.png\", dpi=300, width=BASE_WIDTH*1.1, height=BASE_WIDTH)\n",
    "p4.save(\"Figs/Circles_blues.png\", dpi=300, width=BASE_WIDTH*1.1, height=BASE_WIDTH)\n",
    "p5.save(\"Figs/Circles_jet.png\", dpi=300, width=BASE_WIDTH*1.1, height=BASE_WIDTH)\n",
    "\n",
    "[p1, p2, p3, p4, p5]"
   ]
  },
  {
   "cell_type": "markdown",
   "metadata": {},
   "source": [
    "We see that the desaturated rainbow palette is great a feature extraction, however, it does not impose any sense of size;"
   ]
  },
  {
   "cell_type": "code",
   "execution_count": null,
   "metadata": {},
   "outputs": [],
   "source": [
    "data_schz = pd.read_csv(\"../Lecture2/Data/Aus_schz.csv\")\n",
    "\n",
    "label_month = [\"Jan\", \"Feb\", \"Mar\", \"Apr\", \"May\", \"Jun\", \"Jul\", \"Aug\", \"Sep\", \"Oct\", \"Nov\", \"Dec\"]\n",
    "p = (ggplot(data_schz, aes(\"year\", \"month\", fill = \"SczBroad\")) \n",
    "  + geom_tile(colour=\"white\", size=1.0, stat=\"identity\") \n",
    "  + scale_fill_cmap(\"rainbow\")\n",
    "  + scale_y_continuous(breaks=range(1, 13), labels=label_month, expand=(0, 0))\n",
    "  + labs(x = \"\", y = \"\", title = \"Total Australian Schizophrenics Born By Month and Year\") \n",
    "  + theme(plot_title = element_text(color=\"black\",hjust=0,vjust=1, size=14),\n",
    "          panel_background = element_rect(fill=\"white\"),\n",
    "          panel_border = element_rect(fill=None, color=\"white\", size=0.5, linetype=\"solid\"),\n",
    "          panel_grid_major = element_blank(),\n",
    "          panel_grid_minor = element_blank(),\n",
    "          axis_line = element_blank(),\n",
    "          axis_ticks = element_blank(), \n",
    "          axis_text = element_text(color=\"black\", size=12),\n",
    "          axis_text_y  = element_text(hjust=1),\n",
    "          legend_background = element_blank(),\n",
    "          legend_text = element_text(color=\"black\", size=12),\n",
    "          legend_position = \"bottom\",\n",
    "          legend_title=element_blank()))\n",
    "\n",
    "p.save(\"Figs/Aus_rainbow.png\", width=BASE_WIDTH*2.0, height=BASE_HEIGHT*1.5, dpi=300)\n",
    "p"
   ]
  },
  {
   "cell_type": "markdown",
   "metadata": {},
   "source": [
    "While Viridis besides good feature extraction properties also is perceptually uniform;"
   ]
  },
  {
   "cell_type": "code",
   "execution_count": null,
   "metadata": {},
   "outputs": [],
   "source": [
    "\n",
    "label_month = [\"Jan\", \"Feb\", \"Mar\", \"Apr\", \"May\", \"Jun\", \"Jul\", \"Aug\", \"Sep\", \"Oct\", \"Nov\", \"Dec\"]\n",
    "p = (ggplot(data_schz, aes(\"year\", \"month\", fill = \"SczBroad\")) \n",
    "  + geom_tile(colour=\"white\", size=1.0, stat=\"identity\") \n",
    "  + scale_fill_cmap(\"viridis\")\n",
    "  + scale_y_continuous(breaks=range(1, 13), labels=label_month, expand=(0, 0))\n",
    "  + labs(x = \"\", y = \"\", title = \"Total Australian Schizophrenics Born By Month and Year\") \n",
    "  + theme(plot_title = element_text(color=\"black\",hjust=0,vjust=1, size=14),\n",
    "          panel_background = element_rect(fill=\"white\"),\n",
    "          panel_border = element_rect(fill=None, color=\"white\", size=0.5, linetype=\"solid\"),\n",
    "          panel_grid_major = element_blank(),\n",
    "          panel_grid_minor = element_blank(),\n",
    "          axis_line = element_blank(),\n",
    "          axis_ticks = element_blank(), \n",
    "          axis_text = element_text(color=\"black\", size=12),\n",
    "          axis_text_y  = element_text(hjust=1),\n",
    "          legend_background = element_blank(),\n",
    "          legend_text = element_text(color=\"black\", size=12),\n",
    "          legend_position = \"bottom\",\n",
    "          legend_title=element_blank()))\n",
    "\n",
    "\n",
    "p.save(\"Figs/Aus_viridis.png\", width=BASE_WIDTH*2.0, height=BASE_HEIGHT*1.5, dpi=300)\n",
    "\n",
    "p"
   ]
  },
  {
   "cell_type": "markdown",
   "metadata": {},
   "source": [
    "To further see the need of a good palette consider the median lifespan data from last lecture. Here for some colors the ripple disappears when using the rainbow palette."
   ]
  },
  {
   "cell_type": "code",
   "execution_count": null,
   "metadata": {},
   "outputs": [],
   "source": [
    "data_life = pd.read_csv(\"../Lecture2/Data/Life_tidy.csv\")\n",
    "data2020 = data_life.query(\"Year == 2020\")\n",
    "pos = data2020[\"country\"].values[np.argsort(data2020[\"Life_expactancy\"])]\n",
    "data8020 = data_life.query(\"Year > 1969 and Year < 2022\")\n",
    "\n",
    "p1 = (ggplot(data8020, aes(\"Year\", \"country\", fill = \"Life_expactancy\")) \n",
    "  + geom_tile(color=\"white\") \n",
    "  + scale_y_discrete(limits = pos)  \n",
    "  + scale_fill_cmap(\"viridis\")\n",
    "  + theme_minimal())\n",
    "\n",
    "p2 = (ggplot(data8020, aes(\"Year\", \"country\", fill = \"Life_expactancy\")) \n",
    "  + geom_tile(color=\"white\") \n",
    "  + scale_y_discrete(limits = pos)  \n",
    "  + scale_fill_cmap(\"rainbow\")\n",
    "  + theme_minimal())\n",
    "\n",
    "[p1, p2]"
   ]
  },
  {
   "cell_type": "markdown",
   "metadata": {},
   "source": [
    "When visualizing continuous amounts a categorical color-scale is often a good choice. However, sometimes we have a natural reference point (e.g the median) in the data which we want to compare against. Here a diverging color-scale is useful."
   ]
  },
  {
   "cell_type": "code",
   "execution_count": null,
   "metadata": {},
   "outputs": [],
   "source": [
    "world = gpd.read_file(gpd.datasets.get_path(\"naturalearth_lowres\"))\n",
    "world_happiness = pd.read_csv(\"Data/2018.csv\")\n",
    "new_row = pd.DataFrame({\"Overall rank\" : 1000, \"Country or region\": \"United States of America\", \"Score\" : 6.89, \"GDP per capita\": 1e9}, index=[0]) # Somehow USA in not in the data\n",
    "world_happiness = pd.concat([world_happiness, new_row])\n",
    "world_total_data = world.merge(world_happiness, left_on=\"name\", right_on=\"Country or region\")\n",
    "\n",
    "p1 = (ggplot(world_total_data, aes(fill=\"Score\"))\n",
    "    + geom_map()\n",
    "    + labs(title=\"World happiness score in Africa is general below the median of 5.4\")\n",
    "    + scale_fill_cmap(\"PiYG\")\n",
    "    + theme_void())\n",
    "\n",
    "p2 = (ggplot(world_total_data, aes(fill=\"Score\"))\n",
    "    + geom_map()\n",
    "    + labs(title=\"World happiness score in Africa is general below the median of 5.4\")\n",
    "    + scale_fill_cmap(\"viridis\")\n",
    "    + theme_void())\n",
    "\n",
    "\n",
    "p1.save(\"Figs/Map_divergent.png\", width=BASE_WIDTH*2.0, height=BASE_HEIGHT*1.5, dpi=300)\n",
    "p2.save(\"Figs/Map_viridis.png\", width=BASE_WIDTH*2.0, height=BASE_HEIGHT*1.5, dpi=300)\n",
    "\n",
    "# Write data to disk to we in next lecture can try to figure out the thing with Finland :)\n",
    "\n",
    "\n",
    "\n",
    "[p1, p2]\n"
   ]
  },
  {
   "cell_type": "code",
   "execution_count": null,
   "metadata": {},
   "outputs": [],
   "source": [
    "world_total_data.to_csv(\"Data/Total_world_data.csv\")"
   ]
  },
  {
   "cell_type": "markdown",
   "metadata": {},
   "source": [
    "Sometimes we have datasets with different categories. Often it is desired to investigate and compare different categories against each other, and often this is crucial when exploring data. Consider:"
   ]
  },
  {
   "cell_type": "code",
   "execution_count": null,
   "metadata": {},
   "outputs": [],
   "source": [
    "data_plot = pd.read_csv(\"Data/Ex_colors.csv\")\n",
    "\n",
    "col_rainbow = [\"#FF0000\", \"#FFBF00\", \"#80FF00\", \"#00FF40\", \"#00FFFF\", \"#0040FF\", \"#8000FF\", \"#FF00BF\"]\n",
    "data_plot = data_plot.assign(data_plot = pd.Categorical(data_plot[\"dataset\"], \n",
    "                                                        categories=[\"D1\", \"D2\", \"D3\", \"D4\", \"D5\", \"D6\", \"D7\"]))\n",
    "\n",
    "p1 = (ggplot(data_plot, aes(\"x\", \"y\", color=\"dataset\"))\n",
    "    + geom_point()\n",
    "    + scale_color_manual(values = cbPalette, name=\"Dataset\")\n",
    "    + theme_minimal())\n",
    "\n",
    "p2 = (ggplot(data_plot, aes(\"x\", \"y\", shape=\"dataset\"))\n",
    "    + geom_point()\n",
    "    + scale_shape_discrete(name = \"Dataset\")\n",
    "    + theme_minimal())\n",
    "\n",
    "p3 = (ggplot(data_plot, aes(\"x\", \"y\", color=\"dataset\"))\n",
    "    + geom_point()\n",
    "    + scale_color_manual(values = col_rainbow, name=\"Dataset\")\n",
    "    + theme_minimal())\n",
    "\n",
    "p4 = (ggplot(data_plot, aes(\"x\", \"y\"))\n",
    "    + geom_point()\n",
    "    + theme_minimal())\n",
    "\n",
    "[p1, p2, p3, p4]\n",
    "\n",
    "p1.save(\"Figs/Categorical_color_good.png\", dpi=300, width=BASE_WIDTH, height=BASE_HEIGHT)\n",
    "p2.save(\"Figs/Categorical_symbol.png\", dpi=300, width=BASE_WIDTH, height=BASE_HEIGHT)\n",
    "p3.save(\"Figs/Categorical_color_bad.png\", dpi=300, width=BASE_WIDTH, height=BASE_HEIGHT)\n"
   ]
  },
  {
   "cell_type": "markdown",
   "metadata": {},
   "source": [
    "It is further important to handle colorblindness. The palette I have provided you with is designed for that purpose (see lecture). When doing colormaps I can recommend cividis, which has the same properties as Viridis but is further covers a larger group of colorblind-versions: "
   ]
  },
  {
   "cell_type": "code",
   "execution_count": null,
   "metadata": {},
   "outputs": [],
   "source": [
    "p = (ggplot(data8020, aes(\"Year\", \"country\", fill = \"Life_expactancy\")) \n",
    "  + geom_tile(color=\"white\") \n",
    "  + scale_y_discrete(limits = pos)  \n",
    "  + scale_fill_cmap(\"cividis\")\n",
    "  + scale_x_continuous(expand=(0, 0))\n",
    "  + theme_minimal())\n",
    "\n",
    "p"
   ]
  },
  {
   "cell_type": "markdown",
   "metadata": {},
   "source": [
    "Sometimes when plotting categorical data we might want to highlight a certain aspect. Here we need background colors, and foreground colors. Below is a nice palette with good color-blindness properties."
   ]
  },
  {
   "cell_type": "code",
   "execution_count": null,
   "metadata": {},
   "outputs": [],
   "source": [
    "data1 = pd.DataFrame({\"Name\" : [\"Audra\", \"Audra\", \"Adina\", \"Adina\", \"Caitlin\", \"Caitlin\", \"Cindy\", \"Cindy\", \"Dian\", \"Dian\", \"Kevin\", \"Kevin\", \"Nicole\", \"Nicole\", \"Evan\", \"Evan\", \"Tina\", \"Tina\", \"Will\", \"Will\"],\n",
    "                      \"Score\" : [31, 45, 25, 35, 18, 26, 29, 43, 15, 23, 12, 22, 6, 21, 27, 15, 10, 15, 21, 32],\n",
    "                      \"Test\" : [\"1\", \"2\", \"1\", \"2\", \"1\", \"2\", \"1\", \"2\", \"1\", \"2\", \"1\", \"2\", \"1\", \"2\", \"1\", \"2\", \"1\", \"2\", \"1\", \"2\"], \n",
    "                      \"Worse\" : [\"0\", \"0\", \"0\", \"0\", \"0\", \"0\", \"0\", \"0\", \"0\", \"0\", \"0\", \"0\", \"0\", \"0\", \"1\", \"1\", \"0\", \"0\", \"0\", \"0\"]})\n",
    "\n",
    "col_highlight = [\"#D0C0B0\", \"#B6C2CC\", \"#BEAAB4\", \"#ECE9CD\", \"#0A3D6B\", \"#0D5C3D\", \"#812F02\"]\n",
    "col_use = [\"#B6C2CC\", \"#0A3D6B\"]\n",
    "\n",
    "p2 = (ggplot(data1, aes(\"Name\", \"Score\", group=\"Test\", fill=\"Worse\"))\n",
    "    + geom_bar(stat=\"identity\", position=\"dodge\", color=\"black\")\n",
    "    + scale_fill_manual(values=col_use)\n",
    "    + labs(x = \"\", title = \"One student performed worse\")\n",
    "    + theme_minimal()\n",
    "    + scale_y_continuous(expand=(0, 1))\n",
    "    + theme(legend_position=\"none\", \n",
    "            axis_text_x = element_text(vjust=-0.4)))\n",
    "\n",
    "p2.save(\"Figs/Got_worse.png\", width=BASE_WIDTH, height=BASE_HEIGHT, dpi=300)\n",
    "\n",
    "p2"
   ]
  },
  {
   "cell_type": "markdown",
   "metadata": {},
   "source": [
    "Overall, we can say a lot about colors. Still, in the end it all depends on the message. "
   ]
  },
  {
   "cell_type": "markdown",
   "metadata": {},
   "source": [
    "## Proportions\n",
    "\n",
    "Let us start with pie-chart. Since *plotnine* does not support pie-charts (specifically polar coordinates) we will use *matplotlib* when creating pie-charts. Furthermore, below we have a classical example of where it does not make sense to other colors than the classical party colors. "
   ]
  },
  {
   "cell_type": "code",
   "execution_count": null,
   "metadata": {},
   "outputs": [],
   "source": [
    "swedish_election_2022 = pd.DataFrame({\"Party\" : [\"Social Democrats\", \"Left Party\", \"Green Party\", \"Centre Party\", \"Liberal Party\", \"Moderate Party\", \"Christian Democrats\", \"Sweden Democrats\"],\n",
    "                                      \"Number_of_seats\" : [107, 24, 18, 24, 16, 68, 19, 73],\n",
    "                                      \"Year\" : [2022, 2022, 2022, 2022, 2022, 2022, 2022, 2022], \n",
    "                                      \"Color\" : [\"#E8112d\", \"#DA291C\", \"#83CF39\", \"#009933\", \"#006AB3\", \"#52BDEC\", \"#000077\", \"#DDDD00\"]})\n",
    "swedish_election_2022[\"Frac_seats\"] = swedish_election_2022[\"Number_of_seats\"] / np.sum(swedish_election_2022[\"Number_of_seats\"]) * 100\n",
    "swedish_election_2022                             \n",
    "\n",
    "fig, axs = plt.subplots(1, 1, constrained_layout=True)\n",
    "axs.pie(swedish_election_2022[\"Frac_seats\"], \n",
    "        labels=swedish_election_2022[\"Party\"],  \n",
    "        colors = swedish_election_2022[\"Color\"], \n",
    "        startangle=90.0)\n",
    "axs.set_title(\"2022 : M, L, SD, and KD have a majority\")\n",
    "plt.show()\n",
    "fig.savefig(dir_save + \"Single_pie.png\")\n"
   ]
  },
  {
   "cell_type": "code",
   "execution_count": null,
   "metadata": {},
   "outputs": [],
   "source": [
    "swedish_election_2018 = pd.DataFrame({\"Party\" : [\"Social Democrats\", \"Left Party\", \"Green Party\", \"Centre Party\", \"Liberal Party\", \"Moderate Party\", \"Christian Democrats\", \"Sweden Democrats\"],\n",
    "                                      \"Number_of_seats\" : [100, 28, 16, 31, 20, 70, 22, 62],\n",
    "                                      \"Year\" : [2018, 2018, 2018, 2018, 2018, 2018, 2018, 2018], \n",
    "                                      \"Color\" : [\"#E8112d\", \"#DA291C\", \"#83CF39\", \"#009933\", \"#006AB3\", \"#52BDEC\", \"#000077\", \"#DDDD00\"]})\n",
    "swedish_election_2014 = pd.DataFrame({\"Party\" : [\"Social Democrats\", \"Left Party\", \"Green Party\", \"Centre Party\", \"Liberal Party\", \"Moderate Party\", \"Christian Democrats\", \"Sweden Democrats\"],\n",
    "                                      \"Number_of_seats\" : [113, 21, 25, 22, 19, 84, 16, 49],\n",
    "                                      \"Year\" : [2014, 2014, 2014, 2014, 2014, 2014, 2014, 2014], \n",
    "                                      \"Color\" : [\"#E8112d\", \"#DA291C\", \"#83CF39\", \"#009933\", \"#006AB3\", \"#52BDEC\", \"#000077\", \"#DDDD00\"]})\n",
    "swedish_election_2018[\"Frac_seats\"] = swedish_election_2018[\"Number_of_seats\"] / np.sum(swedish_election_2018[\"Number_of_seats\"]) * 100\n",
    "swedish_election_2014[\"Frac_seats\"] = swedish_election_2014[\"Number_of_seats\"] / np.sum(swedish_election_2014[\"Number_of_seats\"]) * 100\n",
    "\n",
    "\n",
    "fig, axs = plt.subplots(1, 3, constrained_layout=True, dpi=300, figsize=(18, 10))\n",
    "\n",
    "axs[2].pie(swedish_election_2022[\"Frac_seats\"], \n",
    "        labels=swedish_election_2022[\"Party\"], \n",
    "        colors = swedish_election_2022[\"Color\"], \n",
    "        autopct='%1.1f%%',\n",
    "        startangle=90.0)\n",
    "axs[2].set_title(\"2022 Swedish election\")\n",
    "\n",
    "axs[1].pie(swedish_election_2018[\"Frac_seats\"], \n",
    "        labels=swedish_election_2018[\"Party\"], \n",
    "        colors = swedish_election_2018[\"Color\"], \n",
    "        autopct='%1.1f%%',\n",
    "        startangle=90.0)\n",
    "axs[1].set_title(\"2018 Swedish election\")\n",
    "\n",
    "axs[0].pie(swedish_election_2014[\"Frac_seats\"], \n",
    "        labels=swedish_election_2014[\"Party\"], \n",
    "        colors = swedish_election_2014[\"Color\"], \n",
    "        autopct='%1.1f%%',\n",
    "        startangle=90.0)\n",
    "axs[0].set_title(\"2014 Swedish election\")\n",
    "plt.show()\n",
    "fig.savefig(dir_save + \"Many_pie.svg\")\n",
    "\n"
   ]
  },
  {
   "cell_type": "markdown",
   "metadata": {},
   "source": [
    "Noticeably pie-charts do not work well when we want to make comparisons between different charts. Here a classical bar-chart can be better, and a line-chart can be even better."
   ]
  },
  {
   "cell_type": "code",
   "execution_count": null,
   "metadata": {},
   "outputs": [],
   "source": [
    "data_election = pd.concat([swedish_election_2014, swedish_election_2018, swedish_election_2022])\n",
    "data_election = data_election.assign(Party = pd.Categorical(data_election[\"Party\"], \n",
    "                                                           categories=[\"Social Democrats\", \"Moderate Party\", \"Sweden Democrats\", \"Centre Party\", \"Left Party\", \"Green Party\", \"Liberal Party\", \"Christian Democrats\"][::-1]))\n",
    "data_election = data_election.assign(Year = pd.Categorical(data_election[\"Year\"], \n",
    "                                                           categories=[2014, 2018, 2022]))\n",
    "\n",
    "color_use = [\"#E8112d\", \"#52BDEC\", \"#DDDD00\", \"#83CF39\", \"#DA291C\", \"#009933\", \"#006AB3\", \"#000077\"][::-1]\n",
    "\n",
    "p = (ggplot(data_election, aes(\"Year\", \"Frac_seats\", fill = \"Party\"))\n",
    "    + geom_bar(stat = \"identity\")\n",
    "    + scale_fill_manual(values = color_use)\n",
    "    + labs(y = \"Fraction of seats in Parliament\", x= \"Year\", title = \"Swedish elections 2014-2022\")\n",
    "    + theme_minimal())\n",
    "\n",
    "p.save(\"Figs/Election_year_stack.png\", width=BASE_WIDTH, height=BASE_HEIGHT, dpi=300)\n",
    "p\n"
   ]
  },
  {
   "cell_type": "code",
   "execution_count": null,
   "metadata": {},
   "outputs": [],
   "source": [
    "data_election = data_election.assign(Party = pd.Categorical(data_election[\"Party\"], \n",
    "                                                           categories=[\"Social Democrats\", \"Moderate Party\", \"Sweden Democrats\", \"Centre Party\", \"Left Party\", \"Green Party\", \"Liberal Party\", \"Christian Democrats\"]))\n",
    "\n",
    "p = (ggplot(data_election, aes(\"Year\", \"Frac_seats\", fill = \"Party\"))\n",
    "    + geom_bar(stat = \"identity\", position=\"dodge\")\n",
    "    + scale_fill_manual(values = color_use[::-1])\n",
    "    + labs(y = \"Fraction of seats in Parliament\", x= \"Year\", title = \"Swedish elections 2014-2022\")\n",
    "    + theme_minimal())\n",
    "\n",
    "p.save(\"Figs/Election_year_next.png\", width=BASE_WIDTH, height=BASE_HEIGHT, dpi=300)\n",
    "p"
   ]
  },
  {
   "cell_type": "markdown",
   "metadata": {},
   "source": [
    "Stacked diagrams are not always bad, it always depend on the context. For example, below the main goal is to highlight that Asia is a growing economy. "
   ]
  },
  {
   "cell_type": "code",
   "execution_count": null,
   "metadata": {},
   "outputs": [],
   "source": [
    "data_gdp = pd.read_csv(\"Data/GDP_tidy.csv\")\n",
    "data_gdp = data_gdp.assign(part_of_world = pd.Categorical(data_gdp[\"part_of_world\"], \n",
    "                                                           categories=[\"Asia\", \"America\", \"Europe\", \"Africa\"][::-1]))\n",
    "col_highlight = [\"#D0C0B0\", \"#B6C2CC\", \"#BEAAB4\", \"#0A3D6B\", \"#ECE9CD\", \"#0D5C3D\", \"#812F02\"]\n",
    "\n",
    "p = (ggplot(data_gdp, aes(x=\"year\", y=\"GDP\", fill = \"part_of_world\")) \n",
    "  + geom_density(stat=\"identity\", position = \"fill\") \n",
    "  + xlim(1971, 2021) \n",
    "  + labs(x = \"Year\", y = \"Fraction of GDP [%]\", title = \"The Asian economy is growing\")\n",
    "  + scale_x_continuous(expand = (0, 0))\n",
    "  + scale_y_continuous(expand = (0, 0))\n",
    "  + scale_fill_manual(values = col_highlight, name = \"Part of world\") \n",
    "  + theme_minimal())\n",
    "\n",
    "p.save(\"Figs/Asian_economy.png\", dpi=300, width=BASE_WIDTH, height=BASE_HEIGHT)\n",
    "p"
   ]
  },
  {
   "cell_type": "code",
   "execution_count": null,
   "metadata": {},
   "outputs": [],
   "source": [
    "(ggplot(data_gdp, aes(x=\"year\", y=\"frac_gdp\", color = \"part_of_world\")) \n",
    "  + geom_line(size=2.0)\n",
    "  + xlim(1971, 2021) \n",
    "  + labs(x = \"Year\", y = \"Fraction of GDP [%]\", title = \"The Asian economy is growing\")\n",
    "  + scale_color_manual(values = col_highlight, name = \"Part of world\") \n",
    "  + theme_minimal())"
   ]
  },
  {
   "cell_type": "markdown",
   "metadata": {},
   "source": [
    "Are there other ways we can deal with stacked densities? Yes, by using facets."
   ]
  },
  {
   "cell_type": "code",
   "execution_count": null,
   "metadata": {},
   "outputs": [],
   "source": [
    "data_education_plot = pd.read_csv(\"Data/Education_plot_format.csv\")\n",
    "\n",
    "data_plot = data_education_plot.query(\"highlight == 'Highlighted group'\")\n",
    "data_plot = data_plot.assign(Education_level = pd.Categorical(data_plot[\"Education_level\"], \n",
    "                                                              categories=[\"Middle School\", \"High School\", \"University\", \"Research\"][::-1]))\n",
    "\n",
    "p = (ggplot(data_plot, aes(x=\"age\", y=\"Count_var\", fill = \"Education_level\")) \n",
    "  + geom_density(stat=\"identity\", position = \"fill\") \n",
    "  + labs(x = \"Age\", y = \"Fraction\", title = \"Sweden : Education level with age\")\n",
    "  + scale_x_continuous(expand = (0, 0))\n",
    "  + scale_y_continuous(expand = (0, 0))\n",
    "  + scale_fill_manual(values = cbPalette, name = \"Education level\") \n",
    "  + theme_minimal())\n",
    "\n",
    "p.save(\"Figs/Education_stacked.png\", width=BASE_WIDTH, height=BASE_HEIGHT, dpi=300)\n",
    "p"
   ]
  },
  {
   "cell_type": "code",
   "execution_count": null,
   "metadata": {},
   "outputs": [],
   "source": [
    "p = (ggplot(data_plot, aes(x=\"age\", y=\"Frac_edu\", color = \"Education_level\")) \n",
    "  + geom_line(size=2.0)\n",
    "  + labs(x = \"Age\", y = \"Fraction\", title = \"Sweden : Education level with age\")\n",
    "  + scale_color_manual(values = cbPalette, name = \"Education level\") \n",
    "  + theme_bw())\n",
    "\n",
    "p.save(\"Figs/Education_line.png\", width=BASE_WIDTH, height=BASE_HEIGHT, dpi=300)\n",
    "p\n"
   ]
  },
  {
   "cell_type": "code",
   "execution_count": null,
   "metadata": {},
   "outputs": [],
   "source": [
    "data_education_plot = data_education_plot.assign(Education_level = pd.Categorical(data_education_plot[\"Education_level\"], \n",
    "                                                           categories=[\"Middle School\", \"High School\", \"University\", \"Research\"]))\n",
    "\n",
    "col_highlight = [\"#D0C0B0\", \"#0A3D6B\", \"#ECE9CD\", \"#0D5C3D\", \"#812F02\"]\n",
    "p = (ggplot(data_education_plot, aes(x=\"age\", y=\"Count_var\", fill = \"highlight\")) \n",
    "  + geom_density(stat = \"identity\", alpha=0.8, color=\"White\") \n",
    "  + facet_wrap(\"~Education_level\", nrow=1) \n",
    "  + scale_fill_manual(values=col_highlight, name = \" \")\n",
    "  + labs(x = \"Age\", y = \"Count\", title = \"Sweden : Education level with age\")\n",
    "  + scale_y_continuous(expand = (0, 0))\n",
    "  + scale_x_continuous(expand = (0, 0))\n",
    "  + theme_bw()\n",
    "  + theme(legend_position=\"bottom\", \n",
    "          legend_background = element_blank()))\n",
    "\n",
    "p.save(\"Figs/Education_count.png\", width=BASE_WIDTH*2, height=BASE_HEIGHT, dpi=300)\n",
    "p"
   ]
  },
  {
   "cell_type": "code",
   "execution_count": null,
   "metadata": {},
   "outputs": [],
   "source": [
    "p = (ggplot(data_education_plot, aes(x=\"age\", y=\"Frac_edu\", fill = \"highlight\")) \n",
    "  + geom_density(stat = \"identity\", alpha=0.8, color=\"White\") \n",
    "  + facet_wrap(\"~Education_level\", nrow=1) \n",
    "  + scale_fill_manual(values=col_highlight, name = \" \")\n",
    "  + labs(x = \"Age\", y = \"Fraction\", title = \"Sweden : Education level with age\")\n",
    "  + scale_y_continuous(expand = (0, 0))\n",
    "  + scale_x_continuous(expand = (0, 0))\n",
    "  + theme_bw()\n",
    "  + theme(legend_position=\"bottom\", \n",
    "          legend_background = element_blank()))\n",
    "\n",
    "p.save(\"Figs/Education_frac.png\", width=BASE_WIDTH*2, height=BASE_HEIGHT, dpi=300)\n",
    "p"
   ]
  },
  {
   "cell_type": "code",
   "execution_count": null,
   "metadata": {},
   "outputs": [],
   "source": [
    "from statsmodels.graphics.mosaicplot import mosaic\n",
    "\n",
    "\n",
    "data_plot = {('1st', 'Survived=Yes'): 57 + 140, \n",
    "             ('2nd', 'Survived=Yes'): 14 + 80, \n",
    "             ('3rd', 'Survived=Yes'): 75 + 76, \n",
    "             ('Crew', 'Survived=Yes'): 192 + 20,\n",
    "             ('1st', 'Survived=No'): 118 + 4, \n",
    "             ('2nd', 'Survived=No'): 154 + 13, \n",
    "             ('3rd', 'Survived=No'): 387 + 89, \n",
    "             ('Crew', 'Survived=No'): 670 + 3}\n",
    "\n",
    "props={}\n",
    "props[('1st', 'Survived=Yes')]={'facecolor': cbPalette[0], 'edgecolor':'white'}\n",
    "props[('2nd', 'Survived=Yes')]={'facecolor': cbPalette[0], 'edgecolor':'white'}\n",
    "props[('3rd', 'Survived=Yes')]={'facecolor': cbPalette[0], 'edgecolor':'white'}\n",
    "props[('Crew', 'Survived=Yes')]={'facecolor': cbPalette[0], 'edgecolor':'white'}\n",
    "props[('1st', 'Survived=No')]={'facecolor': cbPalette[1], 'edgecolor':'white'}\n",
    "props[('2nd', 'Survived=No')]={'facecolor': cbPalette[1], 'edgecolor':'white'}\n",
    "props[('3rd', 'Survived=No')]={'facecolor': cbPalette[1], 'edgecolor':'white'}\n",
    "props[('Crew', 'Survived=No')]={'facecolor': cbPalette[1], 'edgecolor':'white'}\n",
    "\n",
    "labelizer=lambda k:data_plot[k]\n",
    "\n",
    "mosaic(data_plot, title=\"Titanic survivors\", properties=props, labelizer=labelizer)\n",
    "\n",
    "\n",
    "plt.savefig(\"Figs/Mosaic.png\", dpi=300)\n",
    "plt.show()"
   ]
  },
  {
   "cell_type": "markdown",
   "metadata": {},
   "source": [
    "Teaser for next lecture on associations and time-series."
   ]
  },
  {
   "cell_type": "code",
   "execution_count": null,
   "metadata": {},
   "outputs": [],
   "source": [
    "from mizani.breaks import date_breaks\n",
    "from mizani.formatters import date_format\n",
    "\n",
    "data_spain = pd.read_csv(\"Data/Spain_tidy.csv\")\n",
    "# Make sure the the dates column is handled as datatime (Pandas approach to handling dates)\n",
    "data_spain = data_spain.assign(DATE=pd.to_datetime(data_spain[\"DATE\"]))\n",
    "\n",
    "\n",
    "\n",
    "p1 = (ggplot(data_spain, aes(\"DATE\", \"Number_unemployed\"))\n",
    "    + geom_line()\n",
    "    + scale_x_datetime(breaks=date_breaks('10 years'), labels=date_format('%Y'))\n",
    "    + theme_bw())\n",
    "\n",
    "# By some reason plotnine has a bug with handling dates for the 2013 dataset, but it handles the above case great (p1). \n",
    "# To get a proper plot the below solution is a really hacky solution.\n",
    "data_2013 = data_spain.query(\"(Year == 2013) and (Month > 2 and Month < 8)\")\n",
    "data_2013 = data_2013.assign(DATE_fct=pd.Categorical([\"Mar 2013\", \"Apr 2013\", \"May 2013\", \"Jun 2013\", \"Jul 2013\"], \n",
    "                                                      categories=[\"Mar 2013\", \"Apr 2013\", \"May 2013\", \"Jun 2013\", \"Jul 2013\"]) )\n",
    "data_2013 = data_2013.assign(group=[1, 1, 1, 1, 1])\n",
    "\n",
    "\n",
    "p2 = (ggplot(data_2013, aes(\"DATE_fct\", \"Number_unemployed\", group=\"group\"))\n",
    "    + geom_point()\n",
    "    + geom_line()\n",
    "    + labs(x = \"Month\", y = \"Number of unemployed workers\", title = \"Spain 2013 turning point - Unemployment is decreasing\")\n",
    "    + theme_bw())\n",
    "\n",
    "p2.save(\"Figs/Spain_unemployment.png\", width=BASE_WIDTH, height=BASE_HEIGHT)\n",
    "\n",
    "[p1, p2]"
   ]
  }
 ],
 "metadata": {
  "kernelspec": {
   "display_name": "Python 3",
   "language": "python",
   "name": "python3"
  },
  "language_info": {
   "codemirror_mode": {
    "name": "ipython",
    "version": 3
   },
   "file_extension": ".py",
   "mimetype": "text/x-python",
   "name": "python",
   "nbconvert_exporter": "python",
   "pygments_lexer": "ipython3",
   "version": "3.8.8"
  },
  "vscode": {
   "interpreter": {
    "hash": "08dea5f0f27b0721f034b5502471c70c33d2dbc5a6c665b51ce45daf208a7e7c"
   }
  }
 },
 "nbformat": 4,
 "nbformat_minor": 2
}
